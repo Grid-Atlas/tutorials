{
 "cells": [
  {
   "cell_type": "markdown",
   "id": "be5a014e",
   "metadata": {},
   "source": [
    "# Distribution Grid Modeling Using AltDSS\n",
    "\n",
    "Make sure to copy two python files from https://github.com/dss-extensions/AltDSS-Schema/tree/main/python and paste it inside `01-altdss` folder.\n",
    "\n",
    "We are going to model following distribution model.\n",
    "\n",
    "![image.png](sld.png)"
   ]
  },
  {
   "cell_type": "code",
   "execution_count": 1,
   "id": "e009870c",
   "metadata": {},
   "outputs": [],
   "source": [
    "from altdss_models import Vsource_MVAsc3MVAsc1x1r1x0r0, Bus, BusConnection\n",
    "\n",
    "bus1 = Bus(Name=\"Bus1\", kVLL=13.2)\n",
    "bus2 = Bus(Name=\"Bus2\", kVLL=13.2)\n",
    "bus3 = Bus(Name=\"Bus3\", kVLL=13.2)\n",
    "vsource = Vsource_MVAsc3MVAsc1x1r1x0r0(\n",
    "    Name=\"source\",\n",
    "    Bus1=BusConnection(root=\"Bus1\"),\n",
    "    BasekV=13.2,\n",
    "    Phases=3,\n",
    "    MVASC3=20000.0,\n",
    "    MVASC1=21000.0,\n",
    "    pu=1.0001,\n",
    "    Angle=30.0,\n",
    ")"
   ]
  },
  {
   "cell_type": "code",
   "execution_count": 2,
   "id": "8525825d",
   "metadata": {},
   "outputs": [],
   "source": [
    "from altdss_models import Line_ZMatrixCMatrix, Line_Z0Z1C0C1, SymmetricMatrix\n",
    "\n",
    "line_1 = Line_ZMatrixCMatrix(\n",
    "    Name=\"line_1\",\n",
    "    Bus1=BusConnection(root=\"Bus1\"),\n",
    "    Bus2=BusConnection(root=\"Bus2\"),\n",
    "    Phases=3,\n",
    "    RMatrix=SymmetricMatrix(\n",
    "        root=[[0.4, 0.05, 0.05], [0.05, 0.4, 0.05], [0.05, 0.05, 0.4]]\n",
    "    ),\n",
    "    XMatrix=SymmetricMatrix(root=[[1.2, 0.3, 0.3], [0.3, 1.2, 0.3], [0.3, 0.3, 1.2]]),\n",
    "    CMatrix=SymmetricMatrix(\n",
    "        root=[[10.0, -2.0, -2.0], [-2.0, 10.0, -2.0], [-2.0, -2.0, 10.0]]\n",
    "    ),  # nanofarads (nF/km)\n",
    ")\n",
    "line_2 = Line_Z0Z1C0C1(\n",
    "    Name=\"line_2\",\n",
    "    Bus1=BusConnection(root=\"Bus1\"),\n",
    "    Bus2=BusConnection(root=\"Bus2\"),\n",
    "    Phases=3,\n",
    "    R1=0.4,  # Ohms/km\n",
    "    X1=1.2,  # Ohms/km\n",
    "    R0=0.8,  # Ohms/km\n",
    "    X0=2.5,  # Ohms/km\n",
    "    C0=3.0,  # nF/km (typical for overhead lines)\n",
    "    C1=9.9,  # nF/km\n",
    ")"
   ]
  },
  {
   "cell_type": "code",
   "execution_count": 3,
   "id": "b1d7e1b2",
   "metadata": {},
   "outputs": [],
   "source": [
    "from altdss_models import Load_kWkvar, Load_kWPF\n",
    "\n",
    "load_1 = Load_kWkvar(\n",
    "    Name=\"load_1\",\n",
    "    Bus1=BusConnection(root=\"Bus3\"),\n",
    "    kW=20.0,\n",
    "    kvar=10.0,\n",
    "    kV=13.2,\n",
    "    Phases=3,\n",
    ")\n",
    "load_2 = Load_kWPF(\n",
    "    Name=\"load_2\", Bus1=BusConnection(root=\"Bus2\"), kW=40.0, PF=0.9, kV=13.2, Phases=3\n",
    ")"
   ]
  },
  {
   "cell_type": "code",
   "execution_count": 4,
   "id": "52a6b138",
   "metadata": {},
   "outputs": [],
   "source": [
    "from altdss_models import (\n",
    "    Circuit,\n",
    "    VsourceContainer,\n",
    "    LineContainer,\n",
    "    LoadContainer,\n",
    ")\n",
    "\n",
    "circuit = Circuit(\n",
    "    Name=\"circuit\",\n",
    "    Bus=[bus1, bus2, bus3],\n",
    "    Vsource=VsourceContainer.model_validate([vsource.model_dump()]),\n",
    "    Line=LineContainer.model_validate(list(map(lambda x: x.model_dump(), [line_1, line_2]))),\n",
    "    Load=LoadContainer.model_validate(list(map(lambda x: x.model_dump(), [load_1, load_2]))),\n",
    ")"
   ]
  },
  {
   "cell_type": "code",
   "execution_count": 5,
   "id": "f04330dc",
   "metadata": {},
   "outputs": [],
   "source": [
    "with open(\"test.dss\", \"w\") as f:\n",
    "    circuit.dump_dss(f)"
   ]
  },
  {
   "cell_type": "code",
   "execution_count": 6,
   "id": "d146aac7",
   "metadata": {},
   "outputs": [],
   "source": [
    "circuit.PostCommands = [\n",
    "    \"calcvoltagebases\",\n",
    "    \"solve\"\n",
    "]"
   ]
  },
  {
   "cell_type": "code",
   "execution_count": 11,
   "id": "256b201b",
   "metadata": {},
   "outputs": [],
   "source": [
    "import opendssdirect as odd\n",
    "odd.Command(\"Redirect test.dss\")"
   ]
  }
 ],
 "metadata": {
  "kernelspec": {
   "display_name": "env",
   "language": "python",
   "name": "python3"
  },
  "language_info": {
   "codemirror_mode": {
    "name": "ipython",
    "version": 3
   },
   "file_extension": ".py",
   "mimetype": "text/x-python",
   "name": "python",
   "nbconvert_exporter": "python",
   "pygments_lexer": "ipython3",
   "version": "3.11.9"
  }
 },
 "nbformat": 4,
 "nbformat_minor": 5
}
